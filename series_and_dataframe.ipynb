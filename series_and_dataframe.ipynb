{
 "cells": [
  {
   "cell_type": "code",
   "execution_count": 5,
   "id": "2727bd10",
   "metadata": {},
   "outputs": [],
   "source": [
    "import pandas as pd\n",
    "import numpy as np\n",
    "import random\n",
    "import string"
   ]
  },
  {
   "cell_type": "markdown",
   "id": "52bc2f0d",
   "metadata": {},
   "source": [
    "* # Series is just single column of data. \n"
   ]
  },
  {
   "cell_type": "markdown",
   "id": "fda83ad2",
   "metadata": {},
   "source": [
    "* # Data frame - Collection of series\n"
   ]
  },
  {
   "cell_type": "code",
   "execution_count": 3,
   "id": "995f6232",
   "metadata": {},
   "outputs": [
    {
     "name": "stdout",
     "output_type": "stream",
     "text": [
      "[0, 1, 2, 3, 4, 5, 6, 7, 8, 9]\n"
     ]
    }
   ],
   "source": [
    "data1 = [i for i in range(10)]\n",
    "print(data1)"
   ]
  },
  {
   "cell_type": "code",
   "execution_count": 10,
   "id": "abfe7bcb",
   "metadata": {},
   "outputs": [
    {
     "name": "stdout",
     "output_type": "stream",
     "text": [
      "['A', 'B', 'C', 'D', 'E', 'F', 'G', 'H', 'I', 'J', 'K', 'L', 'M', 'N', 'O', 'P', 'Q', 'R', 'S', 'T', 'U', 'V', 'W', 'X', 'Y', 'Z']\n"
     ]
    }
   ],
   "source": [
    "alphalist= list(string.ascii_uppercase)\n",
    "print(alphalist)"
   ]
  },
  {
   "cell_type": "code",
   "execution_count": 11,
   "id": "4452a4b8",
   "metadata": {},
   "outputs": [
    {
     "name": "stdout",
     "output_type": "stream",
     "text": [
      "['A', 'B', 'C', 'D', 'E', 'F', 'G', 'H', 'I', 'J']\n"
     ]
    }
   ],
   "source": [
    "index1 = [alphalist[i] for i in range(10)]\n",
    "print(index1)"
   ]
  },
  {
   "cell_type": "code",
   "execution_count": null,
   "id": "628688de",
   "metadata": {},
   "outputs": [],
   "source": []
  },
  {
   "cell_type": "markdown",
   "id": "9c7b83d5",
   "metadata": {},
   "source": [
    "* # building series1\n"
   ]
  },
  {
   "cell_type": "code",
   "execution_count": 15,
   "id": "ad68a983",
   "metadata": {},
   "outputs": [
    {
     "data": {
      "text/plain": [
       "A    0\n",
       "B    1\n",
       "C    2\n",
       "D    3\n",
       "E    4\n",
       "F    5\n",
       "G    6\n",
       "H    7\n",
       "I    8\n",
       "J    9\n",
       "dtype: int64"
      ]
     },
     "execution_count": 15,
     "metadata": {},
     "output_type": "execute_result"
    }
   ],
   "source": [
    "series1 = pd.Series(data = data1, index = index1)\n",
    "series1"
   ]
  },
  {
   "cell_type": "code",
   "execution_count": 21,
   "id": "81579077",
   "metadata": {},
   "outputs": [
    {
     "name": "stdout",
     "output_type": "stream",
     "text": [
      "{'A': 0, 'B': 1, 'C': 2, 'D': 3, 'E': 4, 'F': 5, 'G': 6, 'H': 7, 'I': 8, 'J': 9}\n"
     ]
    }
   ],
   "source": [
    "my_dict = {k:v for k, v in zip(index1, data1)}    #why index1 first?\n",
    "print(my_dict)"
   ]
  },
  {
   "cell_type": "code",
   "execution_count": 23,
   "id": "88dfed7b",
   "metadata": {},
   "outputs": [
    {
     "name": "stdout",
     "output_type": "stream",
     "text": [
      "A    0\n",
      "B    1\n",
      "C    2\n",
      "D    3\n",
      "E    4\n",
      "F    5\n",
      "G    6\n",
      "H    7\n",
      "I    8\n",
      "J    9\n",
      "dtype: int64\n"
     ]
    }
   ],
   "source": [
    "series2 = pd.Series(my_dict)\n",
    "print(series2)"
   ]
  },
  {
   "cell_type": "markdown",
   "id": "9ba14c26",
   "metadata": {},
   "source": [
    "* # building dataframes\n"
   ]
  },
  {
   "cell_type": "code",
   "execution_count": 62,
   "id": "cfb4e5b2",
   "metadata": {},
   "outputs": [
    {
     "data": {
      "text/html": [
       "<div>\n",
       "<style scoped>\n",
       "    .dataframe tbody tr th:only-of-type {\n",
       "        vertical-align: middle;\n",
       "    }\n",
       "\n",
       "    .dataframe tbody tr th {\n",
       "        vertical-align: top;\n",
       "    }\n",
       "\n",
       "    .dataframe thead th {\n",
       "        text-align: right;\n",
       "    }\n",
       "</style>\n",
       "<table border=\"1\" class=\"dataframe\">\n",
       "  <thead>\n",
       "    <tr style=\"text-align: right;\">\n",
       "      <th></th>\n",
       "      <th>V</th>\n",
       "      <th>W</th>\n",
       "      <th>X</th>\n",
       "      <th>Y</th>\n",
       "      <th>Z</th>\n",
       "    </tr>\n",
       "  </thead>\n",
       "  <tbody>\n",
       "    <tr>\n",
       "      <th>A</th>\n",
       "      <td>0.803032</td>\n",
       "      <td>0.013850</td>\n",
       "      <td>-1.508971</td>\n",
       "      <td>-0.512813</td>\n",
       "      <td>-0.743850</td>\n",
       "    </tr>\n",
       "    <tr>\n",
       "      <th>B</th>\n",
       "      <td>1.115562</td>\n",
       "      <td>-2.697450</td>\n",
       "      <td>-0.496556</td>\n",
       "      <td>-0.603829</td>\n",
       "      <td>0.755632</td>\n",
       "    </tr>\n",
       "    <tr>\n",
       "      <th>C</th>\n",
       "      <td>1.044141</td>\n",
       "      <td>0.548692</td>\n",
       "      <td>1.423858</td>\n",
       "      <td>-1.404204</td>\n",
       "      <td>-1.546547</td>\n",
       "    </tr>\n",
       "    <tr>\n",
       "      <th>D</th>\n",
       "      <td>1.315077</td>\n",
       "      <td>0.289568</td>\n",
       "      <td>0.014797</td>\n",
       "      <td>-1.507529</td>\n",
       "      <td>-0.137165</td>\n",
       "    </tr>\n",
       "    <tr>\n",
       "      <th>E</th>\n",
       "      <td>-0.208176</td>\n",
       "      <td>0.308958</td>\n",
       "      <td>-0.433610</td>\n",
       "      <td>-0.352056</td>\n",
       "      <td>1.169677</td>\n",
       "    </tr>\n",
       "  </tbody>\n",
       "</table>\n",
       "</div>"
      ],
      "text/plain": [
       "          V         W         X         Y         Z\n",
       "A  0.803032  0.013850 -1.508971 -0.512813 -0.743850\n",
       "B  1.115562 -2.697450 -0.496556 -0.603829  0.755632\n",
       "C  1.044141  0.548692  1.423858 -1.404204 -1.546547\n",
       "D  1.315077  0.289568  0.014797 -1.507529 -0.137165\n",
       "E -0.208176  0.308958 -0.433610 -0.352056  1.169677"
      ]
     },
     "execution_count": 62,
     "metadata": {},
     "output_type": "execute_result"
    }
   ],
   "source": [
    "df = pd.DataFrame(np.random.randn(5,5), index = \"A/B/C/D/E\".split('/'), columns = \"V/W/X/Y/Z\".split('/'))\n",
    "# print(df)\n",
    "df"
   ]
  },
  {
   "cell_type": "code",
   "execution_count": 60,
   "id": "6a3c86e5",
   "metadata": {},
   "outputs": [
    {
     "data": {
      "text/html": [
       "<div>\n",
       "<style scoped>\n",
       "    .dataframe tbody tr th:only-of-type {\n",
       "        vertical-align: middle;\n",
       "    }\n",
       "\n",
       "    .dataframe tbody tr th {\n",
       "        vertical-align: top;\n",
       "    }\n",
       "\n",
       "    .dataframe thead th {\n",
       "        text-align: right;\n",
       "    }\n",
       "</style>\n",
       "<table border=\"1\" class=\"dataframe\">\n",
       "  <thead>\n",
       "    <tr style=\"text-align: right;\">\n",
       "      <th></th>\n",
       "      <th>V</th>\n",
       "      <th>X</th>\n",
       "    </tr>\n",
       "  </thead>\n",
       "  <tbody>\n",
       "    <tr>\n",
       "      <th>A</th>\n",
       "      <td>-1.780726</td>\n",
       "      <td>1.753787</td>\n",
       "    </tr>\n",
       "    <tr>\n",
       "      <th>B</th>\n",
       "      <td>-1.752638</td>\n",
       "      <td>-0.128436</td>\n",
       "    </tr>\n",
       "    <tr>\n",
       "      <th>C</th>\n",
       "      <td>-1.967015</td>\n",
       "      <td>-0.740976</td>\n",
       "    </tr>\n",
       "    <tr>\n",
       "      <th>D</th>\n",
       "      <td>-0.347050</td>\n",
       "      <td>-0.672172</td>\n",
       "    </tr>\n",
       "    <tr>\n",
       "      <th>E</th>\n",
       "      <td>0.039154</td>\n",
       "      <td>0.039357</td>\n",
       "    </tr>\n",
       "  </tbody>\n",
       "</table>\n",
       "</div>"
      ],
      "text/plain": [
       "          V         X\n",
       "A -1.780726  1.753787\n",
       "B -1.752638 -0.128436\n",
       "C -1.967015 -0.740976\n",
       "D -0.347050 -0.672172\n",
       "E  0.039154  0.039357"
      ]
     },
     "execution_count": 60,
     "metadata": {},
     "output_type": "execute_result"
    }
   ],
   "source": [
    "# grabbing a first column\n",
    "df['V']\n",
    "\n",
    "#grabbing first and second column extra [] sign\n",
    "df[['V', 'X']]"
   ]
  },
  {
   "cell_type": "code",
   "execution_count": 48,
   "id": "6cec4f9e",
   "metadata": {},
   "outputs": [
    {
     "data": {
      "text/html": [
       "<div>\n",
       "<style scoped>\n",
       "    .dataframe tbody tr th:only-of-type {\n",
       "        vertical-align: middle;\n",
       "    }\n",
       "\n",
       "    .dataframe tbody tr th {\n",
       "        vertical-align: top;\n",
       "    }\n",
       "\n",
       "    .dataframe thead th {\n",
       "        text-align: right;\n",
       "    }\n",
       "</style>\n",
       "<table border=\"1\" class=\"dataframe\">\n",
       "  <thead>\n",
       "    <tr style=\"text-align: right;\">\n",
       "      <th></th>\n",
       "      <th>W</th>\n",
       "      <th>Y</th>\n",
       "    </tr>\n",
       "  </thead>\n",
       "  <tbody>\n",
       "    <tr>\n",
       "      <th>A</th>\n",
       "      <td>2.286710</td>\n",
       "      <td>1.286834</td>\n",
       "    </tr>\n",
       "    <tr>\n",
       "      <th>B</th>\n",
       "      <td>0.036798</td>\n",
       "      <td>-0.043054</td>\n",
       "    </tr>\n",
       "    <tr>\n",
       "      <th>C</th>\n",
       "      <td>-0.941691</td>\n",
       "      <td>2.367526</td>\n",
       "    </tr>\n",
       "    <tr>\n",
       "      <th>D</th>\n",
       "      <td>-0.903958</td>\n",
       "      <td>0.179938</td>\n",
       "    </tr>\n",
       "    <tr>\n",
       "      <th>E</th>\n",
       "      <td>-2.238256</td>\n",
       "      <td>-0.069874</td>\n",
       "    </tr>\n",
       "  </tbody>\n",
       "</table>\n",
       "</div>"
      ],
      "text/plain": [
       "          W         Y\n",
       "A  2.286710  1.286834\n",
       "B  0.036798 -0.043054\n",
       "C -0.941691  2.367526\n",
       "D -0.903958  0.179938\n",
       "E -2.238256 -0.069874"
      ]
     },
     "execution_count": 48,
     "metadata": {},
     "output_type": "execute_result"
    }
   ],
   "source": [
    "#grabbing specific row and column\n",
    "\n",
    "df[['W', 'Y']]"
   ]
  },
  {
   "cell_type": "markdown",
   "id": "c44a1f9e",
   "metadata": {},
   "source": [
    "* # loc for particular row"
   ]
  },
  {
   "cell_type": "markdown",
   "id": "34922fcc",
   "metadata": {},
   "source": [
    "* # iloc for intergers columns"
   ]
  },
  {
   "cell_type": "code",
   "execution_count": 64,
   "id": "16cceec6",
   "metadata": {},
   "outputs": [
    {
     "data": {
      "text/plain": [
       "V    1.115562\n",
       "W   -2.697450\n",
       "X   -0.496556\n",
       "Y   -0.603829\n",
       "Z    0.755632\n",
       "Name: B, dtype: float64"
      ]
     },
     "execution_count": 64,
     "metadata": {},
     "output_type": "execute_result"
    }
   ],
   "source": [
    "df.iloc[0]   #through the index of the row (A)\n",
    "df.iloc[1]   #through the index of the row (B)\n"
   ]
  },
  {
   "cell_type": "code",
   "execution_count": 65,
   "id": "6f83d2a2",
   "metadata": {},
   "outputs": [
    {
     "data": {
      "text/plain": [
       "V    0.803032\n",
       "W    0.013850\n",
       "X   -1.508971\n",
       "Y   -0.512813\n",
       "Z   -0.743850\n",
       "Name: A, dtype: float64"
      ]
     },
     "execution_count": 65,
     "metadata": {},
     "output_type": "execute_result"
    }
   ],
   "source": [
    "df.loc['A'] #through the row name"
   ]
  },
  {
   "cell_type": "code",
   "execution_count": 63,
   "id": "baf51e4a",
   "metadata": {},
   "outputs": [
    {
     "data": {
      "text/plain": [
       "1.1155618775215022"
      ]
     },
     "execution_count": 63,
     "metadata": {},
     "output_type": "execute_result"
    }
   ],
   "source": [
    "df.loc['B']['V']   #locate [row][column]\n",
    "df.iloc[1][0]      #index location[1][0] is the index for B row and Column V\n"
   ]
  },
  {
   "cell_type": "code",
   "execution_count": 66,
   "id": "0f00544b",
   "metadata": {},
   "outputs": [
    {
     "data": {
      "text/plain": [
       "A     True\n",
       "B    False\n",
       "C     True\n",
       "D     True\n",
       "E     True\n",
       "Name: W, dtype: bool"
      ]
     },
     "execution_count": 66,
     "metadata": {},
     "output_type": "execute_result"
    }
   ],
   "source": [
    "df['W'] > 0    #this gives the true of false of the column W"
   ]
  },
  {
   "cell_type": "code",
   "execution_count": 67,
   "id": "08e5a01d",
   "metadata": {},
   "outputs": [
    {
     "data": {
      "text/html": [
       "<div>\n",
       "<style scoped>\n",
       "    .dataframe tbody tr th:only-of-type {\n",
       "        vertical-align: middle;\n",
       "    }\n",
       "\n",
       "    .dataframe tbody tr th {\n",
       "        vertical-align: top;\n",
       "    }\n",
       "\n",
       "    .dataframe thead th {\n",
       "        text-align: right;\n",
       "    }\n",
       "</style>\n",
       "<table border=\"1\" class=\"dataframe\">\n",
       "  <thead>\n",
       "    <tr style=\"text-align: right;\">\n",
       "      <th></th>\n",
       "      <th>V</th>\n",
       "      <th>W</th>\n",
       "      <th>X</th>\n",
       "      <th>Y</th>\n",
       "      <th>Z</th>\n",
       "    </tr>\n",
       "  </thead>\n",
       "  <tbody>\n",
       "    <tr>\n",
       "      <th>A</th>\n",
       "      <td>0.803032</td>\n",
       "      <td>0.013850</td>\n",
       "      <td>-1.508971</td>\n",
       "      <td>-0.512813</td>\n",
       "      <td>-0.743850</td>\n",
       "    </tr>\n",
       "    <tr>\n",
       "      <th>C</th>\n",
       "      <td>1.044141</td>\n",
       "      <td>0.548692</td>\n",
       "      <td>1.423858</td>\n",
       "      <td>-1.404204</td>\n",
       "      <td>-1.546547</td>\n",
       "    </tr>\n",
       "    <tr>\n",
       "      <th>D</th>\n",
       "      <td>1.315077</td>\n",
       "      <td>0.289568</td>\n",
       "      <td>0.014797</td>\n",
       "      <td>-1.507529</td>\n",
       "      <td>-0.137165</td>\n",
       "    </tr>\n",
       "    <tr>\n",
       "      <th>E</th>\n",
       "      <td>-0.208176</td>\n",
       "      <td>0.308958</td>\n",
       "      <td>-0.433610</td>\n",
       "      <td>-0.352056</td>\n",
       "      <td>1.169677</td>\n",
       "    </tr>\n",
       "  </tbody>\n",
       "</table>\n",
       "</div>"
      ],
      "text/plain": [
       "          V         W         X         Y         Z\n",
       "A  0.803032  0.013850 -1.508971 -0.512813 -0.743850\n",
       "C  1.044141  0.548692  1.423858 -1.404204 -1.546547\n",
       "D  1.315077  0.289568  0.014797 -1.507529 -0.137165\n",
       "E -0.208176  0.308958 -0.433610 -0.352056  1.169677"
      ]
     },
     "execution_count": 67,
     "metadata": {},
     "output_type": "execute_result"
    }
   ],
   "source": [
    "df[df['W']>0]    #this gets us the data frame satisfying the statement (Just checks the column W and              \n",
    "                 #returns all the other rows as well)\n",
    "                 #B row return garena cuz tyo smaller than 0 thiyo\n",
    "        "
   ]
  },
  {
   "cell_type": "code",
   "execution_count": 80,
   "id": "9889f2c9",
   "metadata": {},
   "outputs": [
    {
     "data": {
      "text/html": [
       "<div>\n",
       "<style scoped>\n",
       "    .dataframe tbody tr th:only-of-type {\n",
       "        vertical-align: middle;\n",
       "    }\n",
       "\n",
       "    .dataframe tbody tr th {\n",
       "        vertical-align: top;\n",
       "    }\n",
       "\n",
       "    .dataframe thead th {\n",
       "        text-align: right;\n",
       "    }\n",
       "</style>\n",
       "<table border=\"1\" class=\"dataframe\">\n",
       "  <thead>\n",
       "    <tr style=\"text-align: right;\">\n",
       "      <th></th>\n",
       "      <th>V</th>\n",
       "      <th>W</th>\n",
       "      <th>X</th>\n",
       "      <th>Y</th>\n",
       "      <th>Z</th>\n",
       "      <th>U</th>\n",
       "    </tr>\n",
       "  </thead>\n",
       "  <tbody>\n",
       "    <tr>\n",
       "      <th>A</th>\n",
       "      <td>0.803032</td>\n",
       "      <td>0.013850</td>\n",
       "      <td>-1.508971</td>\n",
       "      <td>-0.512813</td>\n",
       "      <td>-0.743850</td>\n",
       "      <td>0.816882</td>\n",
       "    </tr>\n",
       "    <tr>\n",
       "      <th>B</th>\n",
       "      <td>1.115562</td>\n",
       "      <td>-2.697450</td>\n",
       "      <td>-0.496556</td>\n",
       "      <td>-0.603829</td>\n",
       "      <td>0.755632</td>\n",
       "      <td>-1.581888</td>\n",
       "    </tr>\n",
       "    <tr>\n",
       "      <th>C</th>\n",
       "      <td>1.044141</td>\n",
       "      <td>0.548692</td>\n",
       "      <td>1.423858</td>\n",
       "      <td>-1.404204</td>\n",
       "      <td>-1.546547</td>\n",
       "      <td>1.592833</td>\n",
       "    </tr>\n",
       "    <tr>\n",
       "      <th>D</th>\n",
       "      <td>1.315077</td>\n",
       "      <td>0.289568</td>\n",
       "      <td>0.014797</td>\n",
       "      <td>-1.507529</td>\n",
       "      <td>-0.137165</td>\n",
       "      <td>1.604645</td>\n",
       "    </tr>\n",
       "    <tr>\n",
       "      <th>E</th>\n",
       "      <td>-0.208176</td>\n",
       "      <td>0.308958</td>\n",
       "      <td>-0.433610</td>\n",
       "      <td>-0.352056</td>\n",
       "      <td>1.169677</td>\n",
       "      <td>0.100782</td>\n",
       "    </tr>\n",
       "  </tbody>\n",
       "</table>\n",
       "</div>"
      ],
      "text/plain": [
       "          V         W         X         Y         Z         U\n",
       "A  0.803032  0.013850 -1.508971 -0.512813 -0.743850  0.816882\n",
       "B  1.115562 -2.697450 -0.496556 -0.603829  0.755632 -1.581888\n",
       "C  1.044141  0.548692  1.423858 -1.404204 -1.546547  1.592833\n",
       "D  1.315077  0.289568  0.014797 -1.507529 -0.137165  1.604645\n",
       "E -0.208176  0.308958 -0.433610 -0.352056  1.169677  0.100782"
      ]
     },
     "execution_count": 80,
     "metadata": {},
     "output_type": "execute_result"
    }
   ],
   "source": [
    "df['U'] = df['V'] + df['W']\n",
    "df"
   ]
  },
  {
   "cell_type": "code",
   "execution_count": 84,
   "id": "4912fdb7",
   "metadata": {},
   "outputs": [
    {
     "data": {
      "text/html": [
       "<div>\n",
       "<style scoped>\n",
       "    .dataframe tbody tr th:only-of-type {\n",
       "        vertical-align: middle;\n",
       "    }\n",
       "\n",
       "    .dataframe tbody tr th {\n",
       "        vertical-align: top;\n",
       "    }\n",
       "\n",
       "    .dataframe thead th {\n",
       "        text-align: right;\n",
       "    }\n",
       "</style>\n",
       "<table border=\"1\" class=\"dataframe\">\n",
       "  <thead>\n",
       "    <tr style=\"text-align: right;\">\n",
       "      <th></th>\n",
       "      <th>V</th>\n",
       "      <th>W</th>\n",
       "      <th>X</th>\n",
       "      <th>Y</th>\n",
       "      <th>Z</th>\n",
       "      <th>U</th>\n",
       "    </tr>\n",
       "  </thead>\n",
       "  <tbody>\n",
       "    <tr>\n",
       "      <th>A</th>\n",
       "      <td>0.803032</td>\n",
       "      <td>0.013850</td>\n",
       "      <td>-1.508971</td>\n",
       "      <td>-0.512813</td>\n",
       "      <td>-0.743850</td>\n",
       "      <td>0.803032</td>\n",
       "    </tr>\n",
       "    <tr>\n",
       "      <th>B</th>\n",
       "      <td>1.115562</td>\n",
       "      <td>-2.697450</td>\n",
       "      <td>-0.496556</td>\n",
       "      <td>-0.603829</td>\n",
       "      <td>0.755632</td>\n",
       "      <td>1.115562</td>\n",
       "    </tr>\n",
       "    <tr>\n",
       "      <th>C</th>\n",
       "      <td>1.044141</td>\n",
       "      <td>0.548692</td>\n",
       "      <td>1.423858</td>\n",
       "      <td>-1.404204</td>\n",
       "      <td>-1.546547</td>\n",
       "      <td>1.044141</td>\n",
       "    </tr>\n",
       "    <tr>\n",
       "      <th>D</th>\n",
       "      <td>1.315077</td>\n",
       "      <td>0.289568</td>\n",
       "      <td>0.014797</td>\n",
       "      <td>-1.507529</td>\n",
       "      <td>-0.137165</td>\n",
       "      <td>1.315077</td>\n",
       "    </tr>\n",
       "    <tr>\n",
       "      <th>E</th>\n",
       "      <td>-0.208176</td>\n",
       "      <td>0.308958</td>\n",
       "      <td>-0.433610</td>\n",
       "      <td>-0.352056</td>\n",
       "      <td>1.169677</td>\n",
       "      <td>-0.208176</td>\n",
       "    </tr>\n",
       "  </tbody>\n",
       "</table>\n",
       "</div>"
      ],
      "text/plain": [
       "          V         W         X         Y         Z         U\n",
       "A  0.803032  0.013850 -1.508971 -0.512813 -0.743850  0.803032\n",
       "B  1.115562 -2.697450 -0.496556 -0.603829  0.755632  1.115562\n",
       "C  1.044141  0.548692  1.423858 -1.404204 -1.546547  1.044141\n",
       "D  1.315077  0.289568  0.014797 -1.507529 -0.137165  1.315077\n",
       "E -0.208176  0.308958 -0.433610 -0.352056  1.169677 -0.208176"
      ]
     },
     "execution_count": 84,
     "metadata": {},
     "output_type": "execute_result"
    }
   ],
   "source": [
    "df['U'] = df\n",
    "df"
   ]
  },
  {
   "cell_type": "code",
   "execution_count": null,
   "id": "8491ca3d",
   "metadata": {},
   "outputs": [],
   "source": []
  }
 ],
 "metadata": {
  "kernelspec": {
   "display_name": "Python 3 (ipykernel)",
   "language": "python",
   "name": "python3"
  },
  "language_info": {
   "codemirror_mode": {
    "name": "ipython",
    "version": 3
   },
   "file_extension": ".py",
   "mimetype": "text/x-python",
   "name": "python",
   "nbconvert_exporter": "python",
   "pygments_lexer": "ipython3",
   "version": "3.9.12"
  }
 },
 "nbformat": 4,
 "nbformat_minor": 5
}
