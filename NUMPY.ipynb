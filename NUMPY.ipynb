{
 "cells": [
  {
   "cell_type": "code",
   "execution_count": 1,
   "id": "7768532c",
   "metadata": {},
   "outputs": [],
   "source": [
    "import numpy as np"
   ]
  },
  {
   "cell_type": "code",
   "execution_count": 2,
   "id": "803bf93e",
   "metadata": {},
   "outputs": [
    {
     "name": "stdout",
     "output_type": "stream",
     "text": [
      "[0, 1, 2, 3, 4, 5, 6, 7, 8, 9]\n"
     ]
    }
   ],
   "source": [
    "my_list = [i for i in range(10)]\n",
    "print(my_list)"
   ]
  },
  {
   "cell_type": "code",
   "execution_count": 3,
   "id": "3a881472",
   "metadata": {},
   "outputs": [
    {
     "data": {
      "text/plain": [
       "[0, 1, 2, 3, 4, 5, 6, 7, 8, 9, 0, 1, 2, 3, 4, 5, 6, 7, 8, 9]"
      ]
     },
     "execution_count": 3,
     "metadata": {},
     "output_type": "execute_result"
    }
   ],
   "source": [
    "my_list * 2 #this will just duplicate the list"
   ]
  },
  {
   "cell_type": "code",
   "execution_count": 4,
   "id": "9637826f",
   "metadata": {},
   "outputs": [
    {
     "data": {
      "text/plain": [
       "numpy.ndarray"
      ]
     },
     "execution_count": 4,
     "metadata": {},
     "output_type": "execute_result"
    }
   ],
   "source": [
    "my_arr = np.array(my_list)\n",
    "type(my_arr)"
   ]
  },
  {
   "cell_type": "code",
   "execution_count": 5,
   "id": "d6c8ee3e",
   "metadata": {},
   "outputs": [
    {
     "data": {
      "text/plain": [
       "array([ 0,  2,  4,  6,  8, 10, 12, 14, 16, 18])"
      ]
     },
     "execution_count": 5,
     "metadata": {},
     "output_type": "execute_result"
    }
   ],
   "source": [
    "my_arr * 2   # this will multiply all the numbers inside."
   ]
  },
  {
   "cell_type": "code",
   "execution_count": 6,
   "id": "636c5928",
   "metadata": {},
   "outputs": [
    {
     "data": {
      "text/plain": [
       "array([ 0,  1,  4,  9, 16, 25, 36, 49, 64, 81], dtype=int32)"
      ]
     },
     "execution_count": 6,
     "metadata": {},
     "output_type": "execute_result"
    }
   ],
   "source": [
    "my_arr ** 2"
   ]
  },
  {
   "cell_type": "code",
   "execution_count": null,
   "id": "338a2b67",
   "metadata": {},
   "outputs": [],
   "source": []
  },
  {
   "cell_type": "code",
   "execution_count": 12,
   "id": "fb649e75",
   "metadata": {},
   "outputs": [
    {
     "data": {
      "text/plain": [
       "array([[ 3,  4,  5],\n",
       "       [ 6,  7,  8],\n",
       "       [ 9, 10, 11]])"
      ]
     },
     "execution_count": 12,
     "metadata": {},
     "output_type": "execute_result"
    }
   ],
   "source": [
    "        # np.array([[r1], [r2], [r3]])\n",
    "        \n",
    "my_arr = np.array([[1,2,3], [4, 5, 6], [7,8,9]])\n",
    "type(my_arr)\n",
    "# my_arr + 2  # adds2 to each element\n"
   ]
  },
  {
   "cell_type": "code",
   "execution_count": 13,
   "id": "8cd4a541",
   "metadata": {},
   "outputs": [
    {
     "data": {
      "text/plain": [
       "array([[1],\n",
       "       [4],\n",
       "       [7]])"
      ]
     },
     "execution_count": 13,
     "metadata": {},
     "output_type": "execute_result"
    }
   ],
   "source": [
    "#getting the row\n",
    "\n",
    "\n",
    "my_arr[:, 0:1]          # esari [r, c] select garne milxa    # row bhaneko 0:3 ho which excludes 3.\n",
    "                        # so row bhaneko [:] esari line ho"
   ]
  },
  {
   "cell_type": "code",
   "execution_count": 16,
   "id": "628cf557",
   "metadata": {},
   "outputs": [
    {
     "data": {
      "text/plain": [
       "array([[1, 2, 3],\n",
       "       [4, 5, 6]])"
      ]
     },
     "execution_count": 16,
     "metadata": {},
     "output_type": "execute_result"
    }
   ],
   "source": [
    "my_arr[0:2, :]         #row ma value halyo bhane row aaunxa. column full linxa esle chai"
   ]
  },
  {
   "cell_type": "markdown",
   "id": "2bd11683",
   "metadata": {},
   "source": [
    "* # arange\n",
    "\n"
   ]
  },
  {
   "cell_type": "code",
   "execution_count": 18,
   "id": "4ddce09f",
   "metadata": {},
   "outputs": [
    {
     "data": {
      "text/plain": [
       "array([0, 1, 2, 3, 4, 5, 6, 7, 8, 9])"
      ]
     },
     "execution_count": 18,
     "metadata": {},
     "output_type": "execute_result"
    }
   ],
   "source": [
    "my_arr = np.arange(10)   #return evenly spaced values within a given interval.\n",
    "my_arr"
   ]
  },
  {
   "cell_type": "code",
   "execution_count": null,
   "id": "d5a875a3",
   "metadata": {},
   "outputs": [],
   "source": []
  },
  {
   "cell_type": "code",
   "execution_count": 19,
   "id": "a895e057",
   "metadata": {},
   "outputs": [
    {
     "data": {
      "text/plain": [
       "array([0, 2, 4, 6, 8])"
      ]
     },
     "execution_count": 19,
     "metadata": {},
     "output_type": "execute_result"
    }
   ],
   "source": [
    "my_arr = np.arange(0,10, 2)  # step +2 xa so interval 2 hunxa.\n",
    "my_arr"
   ]
  },
  {
   "cell_type": "code",
   "execution_count": null,
   "id": "d1463396",
   "metadata": {},
   "outputs": [],
   "source": []
  },
  {
   "cell_type": "markdown",
   "id": "464b6842",
   "metadata": {},
   "source": [
    "* # zeros and ones\n",
    "\n"
   ]
  },
  {
   "cell_type": "code",
   "execution_count": 21,
   "id": "e7b817e4",
   "metadata": {},
   "outputs": [
    {
     "data": {
      "text/plain": [
       "array([0., 0., 0.])"
      ]
     },
     "execution_count": 21,
     "metadata": {},
     "output_type": "execute_result"
    }
   ],
   "source": [
    "Z = np.zeros(3)   # yo le chai 0 values haldinxa. sometime for balancing the data set.   #1 D array dinxa.\n",
    "Z"
   ]
  },
  {
   "cell_type": "code",
   "execution_count": 23,
   "id": "5f131caa",
   "metadata": {},
   "outputs": [
    {
     "data": {
      "text/plain": [
       "array([[0., 0., 0.],\n",
       "       [0., 0., 0.],\n",
       "       [0., 0., 0.]])"
      ]
     },
     "execution_count": 23,
     "metadata": {},
     "output_type": "execute_result"
    }
   ],
   "source": [
    "new_z = np.zeros((3,3))   # Tuple rakhnu parxa esma chai. 2D array dinxa esle. 3, 3 matrix dinxa else 0 value ko . \n",
    "new_z"
   ]
  },
  {
   "cell_type": "code",
   "execution_count": null,
   "id": "0b65a1cd",
   "metadata": {},
   "outputs": [],
   "source": []
  },
  {
   "cell_type": "code",
   "execution_count": 25,
   "id": "eb4eeb9d",
   "metadata": {},
   "outputs": [
    {
     "data": {
      "text/plain": [
       "array([1., 1., 1.])"
      ]
     },
     "execution_count": 25,
     "metadata": {},
     "output_type": "execute_result"
    }
   ],
   "source": [
    "o_arr = np.ones(3)    #1 return garxa 1d array ko\n",
    "o_arr"
   ]
  },
  {
   "cell_type": "code",
   "execution_count": 26,
   "id": "d7674785",
   "metadata": {},
   "outputs": [
    {
     "data": {
      "text/plain": [
       "array([[1., 1., 1., 1., 1., 1.],\n",
       "       [1., 1., 1., 1., 1., 1.],\n",
       "       [1., 1., 1., 1., 1., 1.],\n",
       "       [1., 1., 1., 1., 1., 1.],\n",
       "       [1., 1., 1., 1., 1., 1.],\n",
       "       [1., 1., 1., 1., 1., 1.]])"
      ]
     },
     "execution_count": 26,
     "metadata": {},
     "output_type": "execute_result"
    }
   ],
   "source": [
    "n_o_arr = np.ones((6,6))\n",
    "n_o_arr"
   ]
  },
  {
   "cell_type": "code",
   "execution_count": null,
   "id": "18c0a1b3",
   "metadata": {},
   "outputs": [],
   "source": []
  },
  {
   "cell_type": "code",
   "execution_count": null,
   "id": "798a14a8",
   "metadata": {},
   "outputs": [],
   "source": []
  },
  {
   "cell_type": "markdown",
   "id": "0e48d6ce",
   "metadata": {},
   "source": [
    "* # linspace \n",
    "Return evenly spaced numbers over a specified interval. "
   ]
  },
  {
   "cell_type": "code",
   "execution_count": 30,
   "id": "415695bb",
   "metadata": {},
   "outputs": [
    {
     "data": {
      "text/plain": [
       "array([ 0., 25.])"
      ]
     },
     "execution_count": 30,
     "metadata": {},
     "output_type": "execute_result"
    }
   ],
   "source": [
    "L = np.linspace(0,25, 2)    #last ko 2 ..this gives 2 values evenly distributed among the 0 and 25 range. \n",
    "L"
   ]
  },
  {
   "cell_type": "code",
   "execution_count": 36,
   "id": "b1998ddc",
   "metadata": {},
   "outputs": [
    {
     "data": {
      "text/plain": [
       "array([ 0.   ,  3.125,  6.25 ,  9.375, 12.5  , 15.625, 18.75 , 21.875,\n",
       "       25.   ])"
      ]
     },
     "execution_count": 36,
     "metadata": {},
     "output_type": "execute_result"
    }
   ],
   "source": [
    "evenly_spaced_array = np.linspace(0,25, 9)      #esma chai range exclude gardaina.\n",
    "evenly_spaced_array"
   ]
  },
  {
   "cell_type": "markdown",
   "id": "7e196e92",
   "metadata": {},
   "source": [
    "* # reshape \n",
    "esle chai rebuild in the 2d array."
   ]
  },
  {
   "cell_type": "code",
   "execution_count": 37,
   "id": "8def8ef5",
   "metadata": {},
   "outputs": [
    {
     "data": {
      "text/plain": [
       "array([[ 0.   ,  3.125,  6.25 ],\n",
       "       [ 9.375, 12.5  , 15.625],\n",
       "       [18.75 , 21.875, 25.   ]])"
      ]
     },
     "execution_count": 37,
     "metadata": {},
     "output_type": "execute_result"
    }
   ],
   "source": [
    "evenly_spaced_2darray = evenly_spaced_array.reshape(3,3)\n",
    "evenly_spaced_2darray"
   ]
  },
  {
   "cell_type": "markdown",
   "id": "18d6a6fd",
   "metadata": {},
   "source": [
    "* # eye \n",
    "creates an identity matrix"
   ]
  },
  {
   "cell_type": "code",
   "execution_count": 39,
   "id": "581a6f80",
   "metadata": {},
   "outputs": [
    {
     "data": {
      "text/plain": [
       "array([[1., 0.],\n",
       "       [0., 1.]])"
      ]
     },
     "execution_count": 39,
     "metadata": {},
     "output_type": "execute_result"
    }
   ],
   "source": [
    "I2 = np.eye(2)  #creates 2 row 2 colum of 1,0 and 0, 1\n",
    "I2"
   ]
  },
  {
   "cell_type": "code",
   "execution_count": 41,
   "id": "abd13ae1",
   "metadata": {},
   "outputs": [
    {
     "data": {
      "text/plain": [
       "array([[1., 0., 0., 0.],\n",
       "       [0., 1., 0., 0.],\n",
       "       [0., 0., 1., 0.],\n",
       "       [0., 0., 0., 1.]])"
      ]
     },
     "execution_count": 41,
     "metadata": {},
     "output_type": "execute_result"
    }
   ],
   "source": [
    "I4 = np.eye(4)    # creates 4 row column of 1, 0, 0, 0 and esari nai move hudai janxa\n",
    "I4 "
   ]
  },
  {
   "cell_type": "code",
   "execution_count": 42,
   "id": "8bc48ef8",
   "metadata": {},
   "outputs": [
    {
     "data": {
      "text/plain": [
       "array([[1., 0., 0.],\n",
       "       [0., 1., 0.],\n",
       "       [0., 0., 1.],\n",
       "       [0., 0., 0.]])"
      ]
     },
     "execution_count": 42,
     "metadata": {},
     "output_type": "execute_result"
    }
   ],
   "source": [
    "I43 = np.eye(4,3)      #makes the array into 4 by 3 matrix \n",
    "I43"
   ]
  },
  {
   "cell_type": "code",
   "execution_count": null,
   "id": "1260c473",
   "metadata": {},
   "outputs": [],
   "source": []
  },
  {
   "cell_type": "code",
   "execution_count": 44,
   "id": "58bd2aaf",
   "metadata": {},
   "outputs": [
    {
     "data": {
      "text/plain": [
       "array([[1., 0.],\n",
       "       [0., 1.]])"
      ]
     },
     "execution_count": 44,
     "metadata": {},
     "output_type": "execute_result"
    }
   ],
   "source": [
    "I43[0:2, 0:2]   #slicing the arr"
   ]
  },
  {
   "cell_type": "code",
   "execution_count": null,
   "id": "8f42ffcb",
   "metadata": {},
   "outputs": [],
   "source": []
  },
  {
   "cell_type": "markdown",
   "id": "aef777c9",
   "metadata": {},
   "source": [
    "* # Random \n",
    "numpy also has lots of ways to create rando num arrays:"
   ]
  },
  {
   "cell_type": "markdown",
   "id": "99a6c0b2",
   "metadata": {},
   "source": [
    "* # rand\n",
    "create an array of given shape and populate it with random samples form a uniform disribution over[0, 1]"
   ]
  },
  {
   "cell_type": "code",
   "execution_count": 46,
   "id": "f690becd",
   "metadata": {},
   "outputs": [],
   "source": [
    "import random"
   ]
  },
  {
   "cell_type": "code",
   "execution_count": 48,
   "id": "0eb0bb03",
   "metadata": {},
   "outputs": [
    {
     "data": {
      "text/plain": [
       "array([[0.57045059, 0.59996172, 0.42565576, 0.64932871],\n",
       "       [0.19753164, 0.22681259, 0.82288332, 0.95368035],\n",
       "       [0.13135967, 0.19513354, 0.36720871, 0.47380043]])"
      ]
     },
     "execution_count": 48,
     "metadata": {},
     "output_type": "execute_result"
    }
   ],
   "source": [
    "arr = np.random.rand(3,4)   #creates a 2 list by including random values in the list\n",
    "arr"
   ]
  },
  {
   "cell_type": "code",
   "execution_count": 49,
   "id": "c12770b7",
   "metadata": {},
   "outputs": [],
   "source": [
    "from numpy.random import rand"
   ]
  },
  {
   "cell_type": "code",
   "execution_count": 52,
   "id": "a5240705",
   "metadata": {},
   "outputs": [
    {
     "data": {
      "text/plain": [
       "array([[0.55910071, 0.63583309, 0.44047706, 0.88573977],\n",
       "       [0.24056865, 0.87400369, 0.45202842, 0.35512586],\n",
       "       [0.37278527, 0.65815333, 0.59969353, 0.73356569]])"
      ]
     },
     "execution_count": 52,
     "metadata": {},
     "output_type": "execute_result"
    }
   ],
   "source": [
    "arr_simple = rand(3,4) \n",
    "arr_simple"
   ]
  },
  {
   "cell_type": "code",
   "execution_count": null,
   "id": "74d9d501",
   "metadata": {},
   "outputs": [],
   "source": []
  },
  {
   "cell_type": "markdown",
   "id": "14564d4e",
   "metadata": {},
   "source": [
    "* # randn\n",
    "return a sample (or samples from the \"standard normal\" distribution. Unlike rand which is uniform:"
   ]
  },
  {
   "cell_type": "code",
   "execution_count": 53,
   "id": "947dd264",
   "metadata": {},
   "outputs": [],
   "source": [
    "from numpy.random import randn"
   ]
  },
  {
   "cell_type": "code",
   "execution_count": 54,
   "id": "a51162f7",
   "metadata": {},
   "outputs": [
    {
     "data": {
      "text/plain": [
       "array([[ 0.43327422,  0.47479725],\n",
       "       [ 0.34679995, -0.3138673 ],\n",
       "       [ 0.28404724,  0.62931214]])"
      ]
     },
     "execution_count": 54,
     "metadata": {},
     "output_type": "execute_result"
    }
   ],
   "source": [
    "mat = randn(3,2)\n",
    "mat"
   ]
  },
  {
   "cell_type": "code",
   "execution_count": 55,
   "id": "3ade5835",
   "metadata": {},
   "outputs": [
    {
     "data": {
      "text/plain": [
       "array([-0.11208818, -0.2447477 ,  0.11777371])"
      ]
     },
     "execution_count": 55,
     "metadata": {},
     "output_type": "execute_result"
    }
   ],
   "source": [
    "mat1 = randn(3)\n",
    "mat1"
   ]
  },
  {
   "cell_type": "code",
   "execution_count": 66,
   "id": "03a46308",
   "metadata": {},
   "outputs": [
    {
     "data": {
      "text/plain": [
       "[0, 1]"
      ]
     },
     "execution_count": 66,
     "metadata": {},
     "output_type": "execute_result"
    }
   ],
   "source": [
    "seq = [i for i in range(5)]\n",
    "l = list(filter(lambda x: x == x ** 2, seq))    #returns the value which satisfies \n",
    "l"
   ]
  },
  {
   "cell_type": "code",
   "execution_count": 64,
   "id": "cce1fd0d",
   "metadata": {},
   "outputs": [
    {
     "data": {
      "text/plain": [
       "'mdoumbia'"
      ]
     },
     "execution_count": 64,
     "metadata": {},
     "output_type": "execute_result"
    }
   ],
   "source": [
    "l = lambda x: x.split(\"@\")[0]\n",
    "l(\"mdoumbia@howard.edu\")"
   ]
  },
  {
   "cell_type": "code",
   "execution_count": null,
   "id": "aa138e0c",
   "metadata": {},
   "outputs": [],
   "source": []
  }
 ],
 "metadata": {
  "kernelspec": {
   "display_name": "Python 3 (ipykernel)",
   "language": "python",
   "name": "python3"
  },
  "language_info": {
   "codemirror_mode": {
    "name": "ipython",
    "version": 3
   },
   "file_extension": ".py",
   "mimetype": "text/x-python",
   "name": "python",
   "nbconvert_exporter": "python",
   "pygments_lexer": "ipython3",
   "version": "3.9.12"
  }
 },
 "nbformat": 4,
 "nbformat_minor": 5
}
