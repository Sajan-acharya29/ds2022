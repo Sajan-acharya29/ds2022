{
 "cells": [
  {
   "cell_type": "code",
   "execution_count": 1,
   "id": "f6fada18",
   "metadata": {},
   "outputs": [
    {
     "data": {
      "text/plain": [
       "5"
      ]
     },
     "execution_count": 1,
     "metadata": {},
     "output_type": "execute_result"
    }
   ],
   "source": [
    "sname = 'Smith'\n",
    "len(sname)"
   ]
  },
  {
   "cell_type": "code",
   "execution_count": 3,
   "id": "6b6f85c7",
   "metadata": {},
   "outputs": [],
   "source": [
    "## List\n",
    "# lists are used to store multiple items in a single variable. List members are created inside sqaure brackets.\n"
   ]
  },
  {
   "cell_type": "code",
   "execution_count": 4,
   "id": "66cd1a01",
   "metadata": {},
   "outputs": [
    {
     "data": {
      "text/plain": [
       "4"
      ]
     },
     "execution_count": 4,
     "metadata": {},
     "output_type": "execute_result"
    }
   ],
   "source": [
    "a_list = [\"apple\", \"orange\", \"mango\", \"banana\"]\n",
    "len(a_list)"
   ]
  },
  {
   "cell_type": "code",
   "execution_count": 5,
   "id": "9a4b8384",
   "metadata": {},
   "outputs": [
    {
     "data": {
      "text/plain": [
       "list"
      ]
     },
     "execution_count": 5,
     "metadata": {},
     "output_type": "execute_result"
    }
   ],
   "source": [
    "type(a_list)"
   ]
  },
  {
   "cell_type": "code",
   "execution_count": 6,
   "id": "05feae7f",
   "metadata": {},
   "outputs": [
    {
     "name": "stdout",
     "output_type": "stream",
     "text": [
      "['apple', 'orange', 'mango', 'banana', 'peach']\n"
     ]
    }
   ],
   "source": [
    "a_list.append(\"peach\")\n",
    "print(a_list)"
   ]
  },
  {
   "cell_type": "code",
   "execution_count": 28,
   "id": "2b62bcd8",
   "metadata": {},
   "outputs": [
    {
     "data": {
      "text/plain": [
       "[1, 2, 3, 4, 5, 6, 7, 8, 9, 10, 11]"
      ]
     },
     "execution_count": 28,
     "metadata": {},
     "output_type": "execute_result"
    }
   ],
   "source": [
    "mylist = [1,2,3,4,5,6,7,8,9,10]\n",
    "mylist.append(11)\n",
    "mylist"
   ]
  },
  {
   "cell_type": "code",
   "execution_count": 20,
   "id": "21e4cc9d",
   "metadata": {},
   "outputs": [
    {
     "data": {
      "text/plain": [
       "11"
      ]
     },
     "execution_count": 20,
     "metadata": {},
     "output_type": "execute_result"
    }
   ],
   "source": [
    "mylist.pop(-1)"
   ]
  },
  {
   "cell_type": "code",
   "execution_count": 17,
   "id": "fde0af0e",
   "metadata": {},
   "outputs": [
    {
     "data": {
      "text/plain": [
       "11"
      ]
     },
     "execution_count": 17,
     "metadata": {},
     "output_type": "execute_result"
    }
   ],
   "source": [
    "mylist.pop(len(mylist)-1) "
   ]
  },
  {
   "cell_type": "code",
   "execution_count": 29,
   "id": "669cd6d0",
   "metadata": {},
   "outputs": [
    {
     "name": "stdout",
     "output_type": "stream",
     "text": [
      "[1, 3, 4, 5, 6, 7, 8, 9, 10, 11]\n",
      "this is the original list [1, 2, 3, 4, 5, 6, 7, 8, 9, 10, 11]\n"
     ]
    }
   ],
   "source": [
    "oldlist =mylist.copy()\n",
    "mylist.remove(2) # removes the number 2 from mylist\n",
    "print(mylist)\n",
    "print(\"this is the original list\", oldlist)\n"
   ]
  },
  {
   "cell_type": "code",
   "execution_count": 36,
   "id": "8af77c45",
   "metadata": {},
   "outputs": [
    {
     "data": {
      "text/plain": [
       "{'make': 'toyota',\n",
       " 'model': 'crusier',\n",
       " 'year': 2023,\n",
       " 'address': 'DC',\n",
       " 'color': 'black'}"
      ]
     },
     "execution_count": 36,
     "metadata": {},
     "output_type": "execute_result"
    }
   ],
   "source": [
    "# my_dict = {'name': 'Sajan', 'age': 19, 'address': 'Washington DC'}\n",
    "my_dict = {'make': 'toyota', 'model': 'crusier', 'year': 2023}\n",
    "old_dict = my_dict.copy()\n",
    "my_dict['address'] = 'DC'\n",
    "my_dict['color'] = 'black'\n",
    "my_dict"
   ]
  },
  {
   "cell_type": "code",
   "execution_count": 38,
   "id": "673dd7ef",
   "metadata": {},
   "outputs": [
    {
     "data": {
      "text/plain": [
       "dict_keys(['make', 'model', 'year', 'address', 'color'])"
      ]
     },
     "execution_count": 38,
     "metadata": {},
     "output_type": "execute_result"
    }
   ],
   "source": [
    "my_dict.keys()"
   ]
  },
  {
   "cell_type": "code",
   "execution_count": 39,
   "id": "d48d63a7",
   "metadata": {},
   "outputs": [
    {
     "data": {
      "text/plain": [
       "dict_items([('make', 'toyota'), ('model', 'crusier'), ('year', 2023), ('address', 'DC'), ('color', 'black')])"
      ]
     },
     "execution_count": 39,
     "metadata": {},
     "output_type": "execute_result"
    }
   ],
   "source": [
    "my_dict.items()\n"
   ]
  },
  {
   "cell_type": "code",
   "execution_count": 42,
   "id": "79fd5b39",
   "metadata": {},
   "outputs": [
    {
     "data": {
      "text/plain": [
       "{'name': 'Sajan',\n",
       " 'age': 19,\n",
       " 'address': 'America',\n",
       " 'birth': 'nepal',\n",
       " 'lang': 'nepali'}"
      ]
     },
     "execution_count": 42,
     "metadata": {},
     "output_type": "execute_result"
    }
   ],
   "source": [
    "my_dict = {'name': 'Sajan', 'age': 19, 'address': 'Washington DC', 'birth': \"nepal\", 'lang': 'nepali'}\n",
    "my_dict['address'] = \"America\"\n",
    "my_dict"
   ]
  },
  {
   "cell_type": "code",
   "execution_count": 43,
   "id": "bd1812c0",
   "metadata": {},
   "outputs": [
    {
     "data": {
      "text/plain": [
       "{'name': 'Sajan',\n",
       " 'age': 19,\n",
       " 'address': 'America',\n",
       " 'birth': 'nepal',\n",
       " 'lang': 'nepali',\n",
       " 'height': 5.8}"
      ]
     },
     "execution_count": 43,
     "metadata": {},
     "output_type": "execute_result"
    }
   ],
   "source": [
    "my_dict[\"height\"] = 5.8\n",
    "my_dict"
   ]
  },
  {
   "cell_type": "code",
   "execution_count": 1,
   "id": "0852eeab",
   "metadata": {},
   "outputs": [
    {
     "data": {
      "text/plain": [
       "1"
      ]
     },
     "execution_count": 1,
     "metadata": {},
     "output_type": "execute_result"
    }
   ],
   "source": [
    "my_tup = (1,2)\n",
    "my_tup[0]"
   ]
  },
  {
   "cell_type": "code",
   "execution_count": 3,
   "id": "61ae63a9",
   "metadata": {},
   "outputs": [
    {
     "data": {
      "text/plain": [
       "2"
      ]
     },
     "execution_count": 3,
     "metadata": {},
     "output_type": "execute_result"
    }
   ],
   "source": [
    "my_tup[1]"
   ]
  },
  {
   "cell_type": "code",
   "execution_count": 4,
   "id": "5a06f4cb",
   "metadata": {},
   "outputs": [
    {
     "ename": "TypeError",
     "evalue": "'tuple' object does not support item assignment",
     "output_type": "error",
     "traceback": [
      "\u001b[1;31m---------------------------------------------------------------------------\u001b[0m",
      "\u001b[1;31mTypeError\u001b[0m                                 Traceback (most recent call last)",
      "Input \u001b[1;32mIn [4]\u001b[0m, in \u001b[0;36m<cell line: 1>\u001b[1;34m()\u001b[0m\n\u001b[1;32m----> 1\u001b[0m my_tup[\u001b[38;5;241m0\u001b[39m] \u001b[38;5;241m=\u001b[39m \u001b[38;5;241m3\u001b[39m\n",
      "\u001b[1;31mTypeError\u001b[0m: 'tuple' object does not support item assignment"
     ]
    }
   ],
   "source": [
    "my_tup[0] = 3"
   ]
  },
  {
   "cell_type": "code",
   "execution_count": 5,
   "id": "8dbe1bc9",
   "metadata": {},
   "outputs": [
    {
     "data": {
      "text/plain": [
       "False"
      ]
     },
     "execution_count": 5,
     "metadata": {},
     "output_type": "execute_result"
    }
   ],
   "source": [
    "my_tup[0] == my_tup[1]"
   ]
  },
  {
   "cell_type": "code",
   "execution_count": null,
   "id": "c3108a89",
   "metadata": {},
   "outputs": [],
   "source": []
  }
 ],
 "metadata": {
  "kernelspec": {
   "display_name": "Python 3 (ipykernel)",
   "language": "python",
   "name": "python3"
  },
  "language_info": {
   "codemirror_mode": {
    "name": "ipython",
    "version": 3
   },
   "file_extension": ".py",
   "mimetype": "text/x-python",
   "name": "python",
   "nbconvert_exporter": "python",
   "pygments_lexer": "ipython3",
   "version": "3.9.12"
  }
 },
 "nbformat": 4,
 "nbformat_minor": 5
}
