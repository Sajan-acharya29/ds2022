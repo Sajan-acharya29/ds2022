{
 "cells": [
  {
   "cell_type": "markdown",
   "id": "6a3b98d7",
   "metadata": {},
   "source": [
    " * ## Bsic Operations\n",
    "     * Comparison Operators\n",
    "     * if, elif, else ststements\n",
    "     * for loops\n",
    "     * while loops\n",
    "     * range()\n",
    "     * list comprehension\n",
    "     * functions\n",
    "     * lambda expressions\n",
    "     * map and filter\n",
    "     "
   ]
  },
  {
   "cell_type": "markdown",
   "id": "a61b582a",
   "metadata": {},
   "source": [
    "* ## Range()"
   ]
  },
  {
   "cell_type": "code",
   "execution_count": 4,
   "id": "7eec2ab5",
   "metadata": {},
   "outputs": [
    {
     "data": {
      "text/plain": [
       "range(1, 11, 2)"
      ]
     },
     "execution_count": 4,
     "metadata": {},
     "output_type": "execute_result"
    }
   ],
   "source": [
    "range(1,11, 2)"
   ]
  },
  {
   "cell_type": "code",
   "execution_count": 5,
   "id": "0c6f0214",
   "metadata": {},
   "outputs": [
    {
     "name": "stdout",
     "output_type": "stream",
     "text": [
      "1\n",
      "3\n",
      "5\n",
      "7\n",
      "9\n"
     ]
    }
   ],
   "source": [
    "for i in range(1,11,2):\n",
    "    print(i)"
   ]
  },
  {
   "cell_type": "code",
   "execution_count": 6,
   "id": "8c9aa479",
   "metadata": {},
   "outputs": [
    {
     "name": "stdout",
     "output_type": "stream",
     "text": [
      "1 is odd number\n",
      "2 is even number\n",
      "3 is odd number\n",
      "4 is even number\n",
      "5 is odd number\n",
      "6 is even number\n",
      "7 is odd number\n",
      "8 is even number\n",
      "9 is odd number\n",
      "10 is even number\n"
     ]
    }
   ],
   "source": [
    "for num in range(1, 11):\n",
    "    if num % 2 == 0:\n",
    "        print(num, \"is even number\")\n",
    "    else:\n",
    "        print(num, \"is odd number\")\n",
    "    "
   ]
  },
  {
   "cell_type": "code",
   "execution_count": 24,
   "id": "aa425384",
   "metadata": {
    "scrolled": true
   },
   "outputs": [
    {
     "name": "stdout",
     "output_type": "stream",
     "text": [
      "['1 is odd number', '2 is even number', '3 is odd number', '4 is even number', '5 is odd number', '6 is even number', '7 is odd number', '8 is even number', '9 is odd number', '10 is even number']\n"
     ]
    }
   ],
   "source": [
    "a = [(f'{num} is even number') if num % 2 == 0 else (f'{num} is odd number') for num in range(1, 11)]\n",
    "\n",
    "print(a)"
   ]
  },
  {
   "cell_type": "code",
   "execution_count": 20,
   "id": "3e7e68ea",
   "metadata": {},
   "outputs": [
    {
     "name": "stdout",
     "output_type": "stream",
     "text": [
      "1\n",
      "2\n",
      "3\n",
      "4\n",
      "5\n",
      "6\n",
      "7\n",
      "8\n",
      "9\n",
      "10\n"
     ]
    }
   ],
   "source": [
    "num = 1\n",
    "while num < 11:\n",
    "    print(num)\n",
    "    num += 1"
   ]
  },
  {
   "cell_type": "code",
   "execution_count": 23,
   "id": "6cb5bc85",
   "metadata": {},
   "outputs": [
    {
     "name": "stdout",
     "output_type": "stream",
     "text": [
      "1 is odd number\n",
      "2 is even number\n",
      "3 is odd number\n",
      "4 is even number\n",
      "5 is odd number\n",
      "6 is even number\n",
      "7 is odd number\n",
      "8 is even number\n",
      "9 is odd number\n",
      "10 is even number\n"
     ]
    }
   ],
   "source": [
    "num = 1\n",
    "while num < 11:\n",
    "    if num % 2 == 0:\n",
    "        print(num, \"is even number\")\n",
    "    else:\n",
    "        print(num, \"is odd number\")\n",
    "    num += 1\n"
   ]
  },
  {
   "cell_type": "code",
   "execution_count": 1,
   "id": "f335d9e3",
   "metadata": {},
   "outputs": [
    {
     "name": "stdout",
     "output_type": "stream",
     "text": [
      "['1 is odd number', '2 is even number', '3 is odd number', '4 is even number', '5 is odd number', '6 is even number', '7 is odd number', '8 is even number', '9 is odd number', '10 is even number']\n"
     ]
    }
   ],
   "source": [
    "a = [(f'{num} is even number') if num % 2 == 0 else (f'{num} is odd number') for num in range(1, 11)]\n",
    "\n",
    "print(a)\n",
    "\n"
   ]
  },
  {
   "cell_type": "code",
   "execution_count": 3,
   "id": "2534a812",
   "metadata": {},
   "outputs": [
    {
     "name": "stdout",
     "output_type": "stream",
     "text": [
      "{'google': 100, 'facebook': 90, 'twitter': 80, 'linkedin': 70, 'apple': 60}\n"
     ]
    }
   ],
   "source": [
    "company = [\"google\" , \"facebook\", \"twitter\", \"linkedin\", \"apple\"]\n",
    "salary = [100, 90, 80, 70, 60]\n",
    "dico = {k:v for k, v in zip(company, salary)}\n",
    "print(dico)"
   ]
  },
  {
   "cell_type": "code",
   "execution_count": null,
   "id": "2eba181a",
   "metadata": {},
   "outputs": [],
   "source": []
  }
 ],
 "metadata": {
  "kernelspec": {
   "display_name": "Python 3 (ipykernel)",
   "language": "python",
   "name": "python3"
  },
  "language_info": {
   "codemirror_mode": {
    "name": "ipython",
    "version": 3
   },
   "file_extension": ".py",
   "mimetype": "text/x-python",
   "name": "python",
   "nbconvert_exporter": "python",
   "pygments_lexer": "ipython3",
   "version": "3.9.12"
  }
 },
 "nbformat": 4,
 "nbformat_minor": 5
}
